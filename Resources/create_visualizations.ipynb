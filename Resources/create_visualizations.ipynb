{
 "cells": [
  {
   "cell_type": "code",
   "execution_count": 1,
   "id": "80a37213",
   "metadata": {},
   "outputs": [],
   "source": [
    "import pandas as pd\n",
    "from matplotlib import pyplot as plt"
   ]
  },
  {
   "cell_type": "code",
   "execution_count": 3,
   "id": "0a5c870a",
   "metadata": {},
   "outputs": [
    {
     "data": {
      "text/html": [
       "<div>\n",
       "<style scoped>\n",
       "    .dataframe tbody tr th:only-of-type {\n",
       "        vertical-align: middle;\n",
       "    }\n",
       "\n",
       "    .dataframe tbody tr th {\n",
       "        vertical-align: top;\n",
       "    }\n",
       "\n",
       "    .dataframe thead th {\n",
       "        text-align: right;\n",
       "    }\n",
       "</style>\n",
       "<table border=\"1\" class=\"dataframe\">\n",
       "  <thead>\n",
       "    <tr style=\"text-align: right;\">\n",
       "      <th></th>\n",
       "      <th>city</th>\n",
       "      <th>latitude (°N)</th>\n",
       "      <th>longitude (°E)</th>\n",
       "      <th>temperature (°F)</th>\n",
       "      <th>humidity (%)</th>\n",
       "      <th>cloudiness (%)</th>\n",
       "      <th>wind speed (mph)</th>\n",
       "    </tr>\n",
       "  </thead>\n",
       "  <tbody>\n",
       "    <tr>\n",
       "      <th>0</th>\n",
       "      <td>Hambantota, LK</td>\n",
       "      <td>6.124913</td>\n",
       "      <td>81.124256</td>\n",
       "      <td>77.32</td>\n",
       "      <td>100</td>\n",
       "      <td>20</td>\n",
       "      <td>5.75</td>\n",
       "    </tr>\n",
       "    <tr>\n",
       "      <th>1</th>\n",
       "      <td>Bagula, IN</td>\n",
       "      <td>23.333869</td>\n",
       "      <td>88.642096</td>\n",
       "      <td>84.90</td>\n",
       "      <td>74</td>\n",
       "      <td>100</td>\n",
       "      <td>3.18</td>\n",
       "    </tr>\n",
       "    <tr>\n",
       "      <th>2</th>\n",
       "      <td>Airai, PW</td>\n",
       "      <td>7.359934</td>\n",
       "      <td>134.560115</td>\n",
       "      <td>79.20</td>\n",
       "      <td>83</td>\n",
       "      <td>75</td>\n",
       "      <td>4.61</td>\n",
       "    </tr>\n",
       "    <tr>\n",
       "      <th>3</th>\n",
       "      <td>Tual, ID</td>\n",
       "      <td>-5.644309</td>\n",
       "      <td>132.741682</td>\n",
       "      <td>79.34</td>\n",
       "      <td>82</td>\n",
       "      <td>100</td>\n",
       "      <td>21.56</td>\n",
       "    </tr>\n",
       "    <tr>\n",
       "      <th>4</th>\n",
       "      <td>Isla Vista, US</td>\n",
       "      <td>34.411513</td>\n",
       "      <td>-119.856213</td>\n",
       "      <td>80.08</td>\n",
       "      <td>59</td>\n",
       "      <td>74</td>\n",
       "      <td>4.18</td>\n",
       "    </tr>\n",
       "  </tbody>\n",
       "</table>\n",
       "</div>"
      ],
      "text/plain": [
       "             city  latitude (°N)  longitude (°E)  temperature (°F)  \\\n",
       "0  Hambantota, LK       6.124913       81.124256             77.32   \n",
       "1      Bagula, IN      23.333869       88.642096             84.90   \n",
       "2       Airai, PW       7.359934      134.560115             79.20   \n",
       "3        Tual, ID      -5.644309      132.741682             79.34   \n",
       "4  Isla Vista, US      34.411513     -119.856213             80.08   \n",
       "\n",
       "   humidity (%)  cloudiness (%)  wind speed (mph)  \n",
       "0           100              20              5.75  \n",
       "1            74             100              3.18  \n",
       "2            83              75              4.61  \n",
       "3            82             100             21.56  \n",
       "4            59              74              4.18  "
      ]
     },
     "execution_count": 3,
     "metadata": {},
     "output_type": "execute_result"
    }
   ],
   "source": [
    "weather_data = pd.read_csv('weather_data.csv')\n",
    "weather_data.head()"
   ]
  },
  {
   "cell_type": "code",
   "execution_count": 14,
   "id": "15851361",
   "metadata": {},
   "outputs": [],
   "source": [
    "weather_data.to_html(buf='data.html', encoding='utf-8')"
   ]
  },
  {
   "cell_type": "code",
   "execution_count": null,
   "id": "f4838a9f",
   "metadata": {},
   "outputs": [],
   "source": []
  }
 ],
 "metadata": {
  "kernelspec": {
   "display_name": "Python 3 (ipykernel)",
   "language": "python",
   "name": "python3"
  },
  "language_info": {
   "codemirror_mode": {
    "name": "ipython",
    "version": 3
   },
   "file_extension": ".py",
   "mimetype": "text/x-python",
   "name": "python",
   "nbconvert_exporter": "python",
   "pygments_lexer": "ipython3",
   "version": "3.8.13"
  }
 },
 "nbformat": 4,
 "nbformat_minor": 5
}
